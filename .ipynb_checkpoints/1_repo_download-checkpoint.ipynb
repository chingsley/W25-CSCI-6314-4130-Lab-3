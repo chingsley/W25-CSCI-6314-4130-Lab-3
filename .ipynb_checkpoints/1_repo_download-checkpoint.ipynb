{
 "cells": [
  {
   "cell_type": "markdown",
   "metadata": {},
   "source": [
    "### Identify the repositories to download\n",
    "Use GitHub search (https://seart-ghs.si.usi.ch/). This the same code that we have in Lab 2. This stage is to crawl for Github repositories using the SEART tool given some search criteria.\n"
   ]
  },
  {
   "cell_type": "code",
   "execution_count": 1,
   "metadata": {},
   "outputs": [],
   "source": [
    "import os\n",
    "from utils import data_download"
   ]
  },
  {
   "cell_type": "code",
   "execution_count": 2,
   "metadata": {},
   "outputs": [
    {
     "name": "stderr",
     "output_type": "stream",
     "text": [
      "/Users/mootez/courses/w25/6314/labs/lab3/W25-CSCI-6314-4130-Lab-3/venv/lib/python3.13/site-packages/urllib3/connectionpool.py:1097: InsecureRequestWarning: Unverified HTTPS request is being made to host 'seart-ghs.si.usi.ch'. Adding certificate verification is strongly advised. See: https://urllib3.readthedocs.io/en/latest/advanced-usage.html#tls-warnings\n",
      "  warnings.warn(\n"
     ]
    }
   ],
   "source": [
    "response = data_download.download_data_file_from_seart('csv',nameEquals=False,language=\"Java\",commitsMin=1,contributorsMin=2,issuesMin=1,pullsMin=1,\n",
    "                                  committedMin=\"2025-06-24\",committedMax=\"2025-01-01\",starsMin=2500,forksMin=10)"
   ]
  },
  {
   "cell_type": "code",
   "execution_count": 3,
   "metadata": {},
   "outputs": [],
   "source": [
    "file_path = os.path.join('data', 'result.csv')"
   ]
  },
  {
   "cell_type": "code",
   "execution_count": 4,
   "metadata": {},
   "outputs": [
    {
     "name": "stdout",
     "output_type": "stream",
     "text": [
      "['\"id\",\"name\",\"isFork\",\"commits\",\"branches\",\"releases\",\"forks\",\"mainLanguage\",\"defaultBranch\",\"license\",\"homepage\",\"watchers\",\"stargazers\",\"contributors\",\"size\",\"createdAt\",\"pushedAt\",\"updatedAt\",\"totalIssues\",\"openIssues\",\"totalPullRequests\",\"openPullRequests\",\"blankLines\",\"codeLines\",\"commentLines\",\"metrics\",\"lastCommit\",\"lastCommitSHA\",\"hasWiki\",\"isArchived\",\"isDisabled\",\"isLocked\",\"languages\",\"labels\",\"topics\"\\n', '10347,\"apache/jmeter\",false,18257,6,10,2000,\"Java\",\"master\",\"Apache License 2.0\",\"https://jmeter.apache.org/\",320,7696,68,133348,\"2010-05-26T11:38:07\",\"2024-01-22T07:45:44\",\"2024-01-22T02:57:43\",5215,740,991,40,43240,340571,86584,\"[{\"\"language\"\":\"\"Java\"\",\"\"commentLines\"\":68620,\"\"codeLines\"\":148703,\"\"blankLines\"\":30008},{\"\"language\"\":\"\"Kotlin\"\",\"\"commentLines\"\":3958,\"\"codeLines\"\":9427,\"\"blankLines\"\":1696},{\"\"language\"\":\"\"Gradle\"\",\"\"commentLines\"\":1456,\"\"codeLines\"\":3290,\"\"blankLines\"\":503},{\"\"language\"\":\"\"XML\"\",\"\"commentLines\"\":1966,\"\"codeLines\"\":120640,\"\"blankLines\"\":3782},{\"\"language\"\":\"\"JSON\"\",\"\"commentLines\"\":0,\"\"codeLines\"\":2001,\"\"blankLines\"\":0},{\"\"language\"\":\"\"XSD\"\",\"\"commentLines\"\":0,\"\"codeLines\"\":61,\"\"blankLines\"\":21},{\"\"language\"\":\"\"Groovy\"\",\"\"commentLines\"\":22,\"\"codeLines\"\":1,\"\"blankLines\"\":0},{\"\"language\"\":\"\"SVG\"\",\"\"commentLines\"\":12,\"\"codeLines\"\":11556,\"\"blankLines\"\":12},{\"\"language\"\":\"\"CSS\"\",\"\"commentLines\"\":186,\"\"codeLines\"\":2839,\"\"blankLines\"\":200},{\"\"language\"\":\"\"Text\"\",\"\"commentLines\"\":0,\"\"codeLines\"\":585,\"\"blankLines\"\":148},{\"\"language\"\":\"\"HTML\"\",\"\"commentLines\"\":241,\"\"codeLines\"\":2299,\"\"blankLines\"\":468},{\"\"language\"\":\"\"JavaScript\"\",\"\"commentLines\"\":3602,\"\"codeLines\"\":14578,\"\"blankLines\"\":3933},{\"\"language\"\":\"\"JSP\"\",\"\"commentLines\"\":14,\"\"codeLines\"\":19,\"\"blankLines\"\":2},{\"\"language\"\":\"\"Bourne Shell\"\",\"\"commentLines\"\":438,\"\"codeLines\"\":288,\"\"blankLines\"\":105},{\"\"language\"\":\"\"Ant\"\",\"\"commentLines\"\":30,\"\"codeLines\"\":102,\"\"blankLines\"\":28},{\"\"language\"\":\"\"make\"\",\"\"commentLines\"\":2,\"\"codeLines\"\":6,\"\"blankLines\"\":4},{\"\"language\"\":\"\"Properties\"\",\"\"commentLines\"\":5258,\"\"codeLines\"\":13104,\"\"blankLines\"\":615},{\"\"language\"\":\"\"CSV\"\",\"\"commentLines\"\":0,\"\"codeLines\"\":1213,\"\"blankLines\"\":0},{\"\"language\"\":\"\"Less\"\",\"\"commentLines\"\":50,\"\"codeLines\"\":1540,\"\"blankLines\"\":96},{\"\"language\"\":\"\"DOS Batch\"\",\"\"commentLines\"\":376,\"\"codeLines\"\":273,\"\"blankLines\"\":137},{\"\"language\"\":\"\"SCSS\"\",\"\"commentLines\"\":39,\"\"codeLines\"\":1278,\"\"blankLines\"\":30},{\"\"language\"\":\"\"DTD\"\",\"\"commentLines\"\":16,\"\"codeLines\"\":10,\"\"blankLines\"\":11},{\"\"language\"\":\"\"XSLT\"\",\"\"commentLines\"\":240,\"\"codeLines\"\":2164,\"\"blankLines\"\":238},{\"\"language\"\":\"\"YAML\"\",\"\"commentLines\"\":21,\"\"codeLines\"\":441,\"\"blankLines\"\":18},{\"\"language\"\":\"\"Markdown\"\",\"\"commentLines\"\":11,\"\"codeLines\"\":2862,\"\"blankLines\"\":1155},{\"\"language\"\":\"\"Sass\"\",\"\"commentLines\"\":26,\"\"codeLines\"\":1291,\"\"blankLines\"\":30}]\",\"2024-01-09T08:44:25\",\"09c3f810dda7efaf1510ac062454d978d90a0741\",false,false,false,false,\"{\"\"Java\"\":9180580,\"\"Kotlin\"\":580274,\"\"HTML\"\":93440,\"\"XSLT\"\":91403,\"\"JavaScript\"\":36223,\"\"Batchfile\"\":25552,\"\"Shell\"\":24265,\"\"CSS\"\":23066,\"\"Less\"\":6310,\"\"Groovy\"\":1083}\",\"[\"\"chore\"\",\"\"defect\"\",\"\"dependencies\"\",\"\"documentation\"\",\"\"duplicate\"\",\"\"enhancement\"\",\"\"help-wanted\"\",\"\"invalid\"\",\"\"keyword: apibug\"\",\"\"keyword: beginner\"\",\"\"keyword: errormessage\"\",\"\"keyword: faq\"\",\"\"keyword: fixedintrunk\"\",\"\"keyword: jdk1.5\"\",\"\"keyword: jdk9\"\",\"\"keyword: massupdate\"\",\"\"keyword: needsreleasenote\"\",\"\"keyword: nofeedbackfromreporter\"\",\"\"keyword: patchavailable\"\",\"\"keyword: regression\"\",\"\"keyword: rfc\"\",\"\"keyword: testid\"\",\"\"need info\"\",\"\"os: all\"\",\"\"os: linux\"\",\"\"os: macos\"\",\"\"os: other\"\",\"\"os: windows\"\",\"\"p1\"\",\"\"p2\"\",\"\"p3\"\",\"\"p4\"\",\"\"p5\"\",\"\"performance\"\",\"\"regression\"\",\"\"returned-with-feedback\"\",\"\"tests\"\",\"\"to-triage\"\",\"\"wontfix\"\"]\",\"[\"\"java\"\",\"\"performance\"\",\"\"test\"\"]\"\\n', '12325,\"atmosphere/atmosphere\",false,6100,19,0,763,\"Java\",\"atmosphere-2.7.x\",,\"http://async-io.org/\",240,3655,113,113254,\"2010-06-30T02:26:23\",\"2024-01-16T07:44:40\",\"2024-01-16T03:34:20\",2121,45,375,1,9420,44001,17656,\"[{\"\"language\"\":\"\"Markdown\"\",\"\"commentLines\"\":0,\"\"codeLines\"\":125,\"\"blankLines\"\":48},{\"\"language\"\":\"\"Properties\"\",\"\"commentLines\"\":0,\"\"codeLines\"\":1,\"\"blankLines\"\":0},{\"\"language\"\":\"\"XML\"\",\"\"commentLines\"\":17,\"\"codeLines\"\":295,\"\"blankLines\"\":50},{\"\"language\"\":\"\"Bourne Shell\"\",\"\"commentLines\"\":3,\"\"codeLines\"\":11,\"\"blankLines\"\":1},{\"\"language\"\":\"\"YAML\"\",\"\"commentLines\"\":28,\"\"codeLines\"\":129,\"\"blankLines\"\":42},{\"\"language\"\":\"\"Maven\"\",\"\"commentLines\"\":16,\"\"codeLines\"\":1572,\"\"blankLines\"\":39},{\"\"language\"\":\"\"Java\"\",\"\"commentLines\"\":17592,\"\"codeLines\"\":41383,\"\"blankLines\"\":9139},{\"\"language\"\":\"\"Text\"\",\"\"commentLines\"\":0,\"\"codeLines\"\":485,\"\"blankLines\"\":101}]\",\"2024-01-16T07:44:36\",\"24a1456c137e36dfe7c7a6b180ebe299713fb457\",true,false,false,false,\"{\"\"Java\"\":2425854,\"\"Shell\"\":491}\",\"[\"\"0.8.6\"\",\"\"0.9.7\"\",\"\"1.0.0\"\",\"\"1.0.1\"\",\"\"1.0.10\"\",\"\"1.0.11\"\",\"\"1.0.12\"\",\"\"1.0.13\"\",\"\"1.0.14\"\",\"\"1.0.16\"\",\"\"1.0.17\"\",\"\"1.0.19\"\",\"\"1.0.2\"\",\"\"1.0.3\"\",\"\"1.0.4\"\",\"\"1.0.5\"\",\"\"1.0.6\"\",\"\"1.0.7\"\",\"\"1.0.8\"\",\"\"1.0.9\"\",\"\"2.0-candidate\"\",\"\"2.0.0\"\",\"\"2.0.1\"\",\"\"2.0.10\"\",\"\"2.0.2\"\",\"\"2.0.3\"\",\"\"2.0.4\"\",\"\"2.0.5\"\",\"\"2.0.6\"\",\"\"2.0.7\"\",\"\"2.0.8\"\",\"\"2.0.9\"\",\"\"2.1\"\",\"\"2.1.1\"\",\"\"2.1.10\"\",\"\"2.1.11\"\",\"\"2.1.12\"\",\"\"2.1.2\"\",\"\"2.1.3\"\",\"\"2.1.4\"\",\"\"2.1.5\"\",\"\"2.1.6\"\",\"\"2.1.7\"\",\"\"2.1.8\"\",\"\"2.1.9\"\",\"\"2.2.0\"\",\"\"2.2.0-candidate\"\",\"\"2.2.1\"\",\"\"2.2.10\"\",\"\"2.2.2\"\",\"\"2.2.3\"\",\"\"2.2.4\"\",\"\"2.2.5\"\",\"\"2.2.6\"\",\"\"2.2.7\"\",\"\"2.2.8\"\",\"\"2.2.9\"\",\"\"2.3.0\"\",\"\"2.3.1\"\",\"\"2.3.2\"\",\"\"2.3.3\"\",\"\"2.3.4\"\",\"\"2.3.5\"\",\"\"2.3.6\"\",\"\"2.3.7\"\",\"\"2.3.8\"\",\"\"2.3.9\"\",\"\"2.4.0\"\",\"\"2.4.0.2\"\",\"\"2.4.1\"\",\"\"2.4.10\"\",\"\"2.4.11\"\",\"\"2.4.12\"\",\"\"2.4.13\"\",\"\"2.4.2\"\",\"\"2.4.3\"\",\"\"2.4.4\"\",\"\"2.4.5\"\",\"\"2.4.6\"\",\"\"2.4.7\"\",\"\"2.4.8\"\",\"\"2.4.9\"\",\"\"2.5.0\"\",\"\"2.5.10\"\",\"\"2.5.11\"\",\"\"2.5.12\"\",\"\"2.5.13\"\",\"\"2.5.14\"\",\"\"2.5.15\"\",\"\"2.5.16\"\",\"\"2.5.5\"\",\"\"2.5.6\"\",\"\"2.5.7\"\",\"\"2.5.8\"\",\"\"2.5.9\"\",\"\"2.6.0\"\",\"\"2.6.1\"\",\"\"2.6.2\"\",\"\"2.6.4\"\",\"\"2.6.5\"\",\"\"2.7.0\"\",\"\"2.7.1\"\",\"\"2.7.10\"\",\"\"2.7.2\"\",\"\"2.7.3\"\",\"\"2.7.4\"\",\"\"2.7.5\"\",\"\"2.7.6\"\",\"\"2.7.8\"\",\"\"2.7.9\"\",\"\"3.0.0\"\",\"\"3.0.1\"\",\"\"3.1.0\"\",\"\"api changes\"\",\"\"dependencies\"\",\"\"documentation\"\",\"\"enhancement\"\",\"\"external issue\"\",\"\"help wanted!\"\",\"\"javascript\"\",\"\"moved\"\",\"\"not a bug\"\",\"\"performance\"\",\"\"rc1\"\",\"\"regression\"\",\"\"sample\"\",\"\"test case needed\"\",\"\"unable to reproduce\"\",\"\"will not fix\"\",\"\"won\\'t fix\"\",\"\"workaround available\"\"]\",\"[\"\"asynchronous\"\",\"\"event-driven\"\",\"\"java\"\",\"\"javascript\"\",\"\"microservices\"\",\"\"netty\"\",\"\"spring-boot\"\",\"\"websocket\"\",\"\"websockets\"\"]\"\\n']\n"
     ]
    }
   ],
   "source": [
    "with open(file_path) as repo_file:\n",
    "    head = [next(repo_file) for x in range(3)]\n",
    "print(head)"
   ]
  },
  {
   "cell_type": "code",
   "execution_count": 5,
   "metadata": {},
   "outputs": [
    {
     "name": "stdout",
     "output_type": "stream",
     "text": [
      "apache_jmeter already exists. skipping ...\n",
      "atmosphere_atmosphere already exists. skipping ...\n",
      "robolectric_robolectric already exists. skipping ...\n",
      "eclipse-vertx_vert.x already exists. skipping ...\n",
      "cucumber_cucumber-jvm already exists. skipping ...\n",
      "cloning... https://github.com/minecraftforge/minecraftforge.git\n"
     ]
    },
    {
     "name": "stderr",
     "output_type": "stream",
     "text": [
      "Cloning into 'data/repos/minecraftforge_minecraftforge'...\n"
     ]
    },
    {
     "name": "stdout",
     "output_type": "stream",
     "text": [
      "cloning done.\n",
      "cloning... https://github.com/apache/dubbo.git\n"
     ]
    },
    {
     "name": "stderr",
     "output_type": "stream",
     "text": [
      "Cloning into 'data/repos/apache_dubbo'...\n"
     ]
    },
    {
     "name": "stdout",
     "output_type": "stream",
     "text": [
      "cloning done.\n",
      "cloning... https://github.com/pmd/pmd.git\n"
     ]
    },
    {
     "name": "stderr",
     "output_type": "stream",
     "text": [
      "Cloning into 'data/repos/pmd_pmd'...\n"
     ]
    },
    {
     "name": "stdout",
     "output_type": "stream",
     "text": [
      "cloning done.\n",
      "cloning... https://github.com/antennapod/antennapod.git\n"
     ]
    },
    {
     "name": "stderr",
     "output_type": "stream",
     "text": [
      "Cloning into 'data/repos/antennapod_antennapod'...\n"
     ]
    },
    {
     "name": "stdout",
     "output_type": "stream",
     "text": [
      "cloning done.\n",
      "cloning... https://github.com/libgdx/libgdx.git\n"
     ]
    },
    {
     "name": "stderr",
     "output_type": "stream",
     "text": [
      "Cloning into 'data/repos/libgdx_libgdx'...\n"
     ]
    },
    {
     "name": "stdout",
     "output_type": "stream",
     "text": [
      "cloning done.\n"
     ]
    }
   ],
   "source": [
    "import download\n",
    "import csv\n",
    "\n",
    "output_folder = os.path.join('data', 'repos')\n",
    "with open(file_path) as repo_file:\n",
    "    reader = csv.reader(repo_file, delimiter=',')\n",
    "    next(reader)\n",
    "    max_limit = 10 # <- maximum number of repos to be cloned\n",
    "    for i, line in enumerate(reader):\n",
    "        if i == max_limit:\n",
    "            break\n",
    "        download.download_repo(line[1], output_folder)"
   ]
  },
  {
   "cell_type": "code",
   "execution_count": null,
   "metadata": {},
   "outputs": [],
   "source": []
  }
 ],
 "metadata": {
  "kernelspec": {
   "display_name": "Python 3 (ipykernel)",
   "language": "python",
   "name": "python3"
  },
  "language_info": {
   "codemirror_mode": {
    "name": "ipython",
    "version": 3
   },
   "file_extension": ".py",
   "mimetype": "text/x-python",
   "name": "python",
   "nbconvert_exporter": "python",
   "pygments_lexer": "ipython3",
   "version": "3.13.2"
  }
 },
 "nbformat": 4,
 "nbformat_minor": 4
}
