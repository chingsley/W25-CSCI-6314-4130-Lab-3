{
 "cells": [
  {
   "cell_type": "markdown",
   "metadata": {},
   "source": [
    "### Identify the repositories to download\n",
    "Use GitHub search (https://seart-ghs.si.usi.ch/). This the same code that we have in Lab 2. This stage is to crawl for Github repositories using the SEART tool given some search criteria.\n"
   ]
  },
  {
   "cell_type": "code",
   "execution_count": 1,
   "metadata": {},
   "outputs": [],
   "source": [
    "import os\n",
    "from utils import data_download"
   ]
  },
  {
   "cell_type": "code",
   "execution_count": 2,
   "metadata": {},
   "outputs": [
    {
     "name": "stderr",
     "output_type": "stream",
     "text": [
      "/Users/kingsleyeneja/Downloads/CSCI-6314-ML-IN-SE/labs/lab2/W25-CSCI-6314-4130-Lab-3/lab3_venv/lib/python3.13/site-packages/urllib3/connectionpool.py:1097: InsecureRequestWarning: Unverified HTTPS request is being made to host 'seart-ghs.si.usi.ch'. Adding certificate verification is strongly advised. See: https://urllib3.readthedocs.io/en/latest/advanced-usage.html#tls-warnings\n",
      "  warnings.warn(\n"
     ]
    }
   ],
   "source": [
    "response = data_download.download_data_file_from_seart('csv',nameEquals=False,language=\"Java\",commitsMin=1,contributorsMin=2,issuesMin=1,pullsMin=1,\n",
    "                                  committedMin=\"2024-06-24\",committedMax=\"2025-01-01\",starsMin=2500,forksMin=10)"
   ]
  },
  {
   "cell_type": "code",
   "execution_count": 3,
   "metadata": {},
   "outputs": [],
   "source": [
    "file_path = os.path.join('data', 'new_result.csv')"
   ]
  },
  {
   "cell_type": "code",
   "execution_count": 4,
   "metadata": {},
   "outputs": [
    {
     "name": "stdout",
     "output_type": "stream",
     "text": [
      "['\"id\",\"name\",\"isFork\",\"commits\",\"branches\",\"releases\",\"forks\",\"mainLanguage\",\"defaultBranch\",\"license\",\"homepage\",\"watchers\",\"stargazers\",\"contributors\",\"size\",\"createdAt\",\"pushedAt\",\"updatedAt\",\"totalIssues\",\"openIssues\",\"totalPullRequests\",\"openPullRequests\",\"blankLines\",\"codeLines\",\"commentLines\",\"metrics\",\"lastCommit\",\"lastCommitSHA\",\"hasWiki\",\"isArchived\",\"isDisabled\",\"isLocked\",\"languages\",\"labels\",\"topics\"\\n', '\"16087\",\"arduino/arduino\",false,\"7376\",\"7\",\"37\",\"7009\",\"Java\",\"master\",\"Other\",\"https://www.arduino.cc/en/software\",\"1100\",\"14138\",\"250\",\"1390211\",\"2010-09-17T07:10:36\",\"2024-10-18T04:32:19\",\"2024-10-18T04:32:26\",\"9848\",\"644\",\"1507\",\"108\",\"93217\",\"188709\",\"128803\",\"[{\"\"codeLines\"\":95,\"\"commentLines\"\":2,\"\"language\"\":\"\"Bourne Again Shell\"\",\"\"blankLines\"\":34},{\"\"codeLines\"\":1421,\"\"commentLines\"\":13,\"\"language\"\":\"\"SVG\"\",\"\"blankLines\"\":10},{\"\"codeLines\"\":1927,\"\"commentLines\"\":22,\"\"language\"\":\"\"TNSDL\"\",\"\"blankLines\"\":228},{\"\"codeLines\"\":91,\"\"commentLines\"\":45,\"\"language\"\":\"\"Perl\"\",\"\"blankLines\"\":33},{\"\"codeLines\"\":101112,\"\"commentLines\"\":44834,\"\"language\"\":\"\"PO File\"\",\"\"blankLines\"\":40062},{\"\"codeLines\"\":1330,\"\"commentLines\"\":0,\"\"language\"\":\"\"JSON\"\",\"\"blankLines\"\":0},{\"\"codeLines\"\":1913,\"\"commentLines\"\":19,\"\"language\"\":\"\"XML\"\",\"\"blankLines\"\":40},{\"\"codeLines\"\":279,\"\"commentLines\"\":14,\"\"language\"\":\"\"AsciiDoc\"\",\"\"blankLines\"\":101},{\"\"codeLines\"\":14,\"\"commentLines\"\":0,\"\"language\"\":\"\"HTML\"\",\"\"blankLines\"\":2},{\"\"codeLines\"\":8863,\"\"commentLines\"\":2781,\"\"language\"\":\"\"Python\"\",\"\"blankLines\"\":1708},{\"\"codeLines\"\":1296,\"\"commentLines\"\":798,\"\"language\"\":\"\"Arduino Sketch\"\",\"\"blankLines\"\":561},{\"\"codeLines\"\":3594,\"\"commentLines\"\":1824,\"\"language\"\":\"\"C++\"\",\"\"blankLines\"\":905},{\"\"codeLines\"\":1173,\"\"commentLines\"\":115,\"\"language\"\":\"\"Ant\"\",\"\"blankLines\"\":244},{\"\"codeLines\"\":27010,\"\"commentLines\"\":10417,\"\"language\"\":\"\"Java\"\",\"\"blankLines\"\":6755},{\"\"codeLines\"\":517,\"\"commentLines\"\":157,\"\"language\"\":\"\"Bourne Shell\"\",\"\"blankLines\"\":163},{\"\"codeLines\"\":3075,\"\"commentLines\"\":1666,\"\"language\"\":\"\"C/C++ Header\"\",\"\"blankLines\"\":593},{\"\"codeLines\"\":30,\"\"commentLines\"\":0,\"\"language\"\":\"\"YAML\"\",\"\"blankLines\"\":4},{\"\"codeLines\"\":320,\"\"commentLines\"\":1,\"\"language\"\":\"\"Markdown\"\",\"\"blankLines\"\":110},{\"\"codeLines\"\":31,\"\"commentLines\"\":8,\"\"language\"\":\"\"JavaScript\"\",\"\"blankLines\"\":7},{\"\"codeLines\"\":679,\"\"commentLines\"\":0,\"\"language\"\":\"\"INI\"\",\"\"blankLines\"\":3},{\"\"codeLines\"\":6484,\"\"commentLines\"\":0,\"\"language\"\":\"\"Text\"\",\"\"blankLines\"\":1580},{\"\"codeLines\"\":27455,\"\"commentLines\"\":66087,\"\"language\"\":\"\"Properties\"\",\"\"blankLines\"\":40074}]\",\"2024-10-18T04:32:19\",\"3278173ef810935e07808deed58783c1bc7ca4cf\",true,false,false,false,\"{\"\"Java\"\":1513011,\"\"Python\"\":638851,\"\"Shell\"\":9960,\"\"Perl\"\":7263,\"\"JavaScript\"\":1469}\",\"32bit deprecation;accessibility;architecture: avr;architecture: sam;architecture: samd;arduino-builder;arduino-cli;board: arduino due;board: arduino robot;c++14;component: avrdude 6.3;component: board/lib manager;component: bootloader;component: cli;component: compilation;component: core;component: documentation;component: firmware;component: hardware;component: hardwareserial;component: ide;component: ide serial monitor;component: ide user interface;component: preprocessor;component: proxy;component: toolchain;component: uploading;component: usb device;component: website;drivers;editor-refactor;examples: arduinoisp;feature request;help wanted;ide 1.9.x beta;in progress;java 9+;jmdns;liblistserial;library: bridge;library: eeprom;library: ethernet;library: hid;library: liquidcrystal;library: other;library: scheduler;library: sd;library: servo;library: softwareserial;library: spi;library: stepper;library: tft;library: wifi;library: wire;localization;on hold;openjdk;os: linux;os: linux arm;os: osx;os: windows;os: windows xp;package_index_incident;print and stream class;question;security;serialplotter;theme;type: bug;type: duplicate;type: improvement;type: invalid;type: regression;type: wontfix;type: works for me;uncategorized;upstream notified;usb: cdc serial;waiting for feedback;windows store app\",\"arduino;ide\"\\n', '\"31824\",\"movingblocks/terasology\",false,\"12035\",\"60\",\"70\",\"1341\",\"Java\",\"develop\",\"Apache License 2.0\",\"http://terasology.org\",\"187\",\"3690\",\"269\",\"305766\",\"2011-03-04T03:49:19\",\"2024-12-17T03:41:08\",\"2024-12-17T05:36:21\",\"2090\",\"437\",\"3176\",\"36\",\"33277\",\"154420\",\"30526\",\"[{\"\"codeLines\"\":849,\"\"commentLines\"\":211,\"\"language\"\":\"\"Groovy\"\",\"\"blankLines\"\":161},{\"\"codeLines\"\":418,\"\"commentLines\"\":0,\"\"language\"\":\"\"SVG\"\",\"\"blankLines\"\":0},{\"\"codeLines\"\":925,\"\"commentLines\"\":0,\"\"language\"\":\"\"Text\"\",\"\"blankLines\"\":5},{\"\"codeLines\"\":7529,\"\"commentLines\"\":0,\"\"language\"\":\"\"Qt\"\",\"\"blankLines\"\":8},{\"\"codeLines\"\":5,\"\"commentLines\"\":0,\"\"language\"\":\"\"INI\"\",\"\"blankLines\"\":1},{\"\"codeLines\"\":1141,\"\"commentLines\"\":0,\"\"language\"\":\"\"JSON\"\",\"\"blankLines\"\":2},{\"\"codeLines\"\":145,\"\"commentLines\"\":4,\"\"language\"\":\"\"DOS Batch\"\",\"\"blankLines\"\":47},{\"\"codeLines\"\":215,\"\"commentLines\"\":0,\"\"language\"\":\"\"Grails\"\",\"\"blankLines\"\":41},{\"\"codeLines\"\":15,\"\"commentLines\"\":28,\"\"language\"\":\"\"Properties\"\",\"\"blankLines\"\":10},{\"\"codeLines\"\":287,\"\"commentLines\"\":67,\"\"language\"\":\"\"Kotlin\"\",\"\"blankLines\"\":74},{\"\"codeLines\"\":133835,\"\"commentLines\"\":29567,\"\"language\"\":\"\"Java\"\",\"\"blankLines\"\":30438},{\"\"codeLines\"\":4400,\"\"commentLines\"\":20,\"\"language\"\":\"\"Markdown\"\",\"\"blankLines\"\":1792},{\"\"codeLines\"\":608,\"\"commentLines\"\":85,\"\"language\"\":\"\"GLSL\"\",\"\"blankLines\"\":189},{\"\"codeLines\"\":1517,\"\"commentLines\"\":351,\"\"language\"\":\"\"Gradle\"\",\"\"blankLines\"\":362},{\"\"codeLines\"\":156,\"\"commentLines\"\":5,\"\"language\"\":\"\"YAML\"\",\"\"blankLines\"\":8},{\"\"codeLines\"\":5,\"\"commentLines\"\":0,\"\"language\"\":\"\"Dockerfile\"\",\"\"blankLines\"\":1},{\"\"codeLines\"\":258,\"\"commentLines\"\":2,\"\"language\"\":\"\"Protocol Buffers\"\",\"\"blankLines\"\":56},{\"\"codeLines\"\":1177,\"\"commentLines\"\":34,\"\"language\"\":\"\"XML\"\",\"\"blankLines\"\":26},{\"\"codeLines\"\":231,\"\"commentLines\"\":151,\"\"language\"\":\"\"Bourne Shell\"\",\"\"blankLines\"\":51},{\"\"codeLines\"\":54,\"\"commentLines\"\":1,\"\"language\"\":\"\"HTML\"\",\"\"blankLines\"\":4},{\"\"codeLines\"\":650,\"\"commentLines\"\":0,\"\"language\"\":\"\"Unity-Prefab\"\",\"\"blankLines\"\":1}]\",\"2024-12-15T06:17:01\",\"4e12a752a3db9f55ce400e821d377e6ba3ed54c1\",false,false,false,false,\"{\"\"Java\"\":7113548,\"\"Groovy\"\":55535,\"\"GLSL\"\":23786,\"\"Kotlin\"\":14715,\"\"Shell\"\":11802,\"\"Batchfile\"\":3041,\"\"Dockerfile\"\":292}\",\"blocker;breaking change;category: build/ci;category: crash;category: doc;category: gameplay content;category: performance;category: security;category: test/qa;good first issue;multiplayer;revive: convert;revive: keep;revive: move;size: l;size: m;size: s;status: blocked;status: needs author input;status: needs discussion;status: needs investigation;status: needs testing;status: stale;topic: ai;topic: architecture;topic: concurrency;topic: physics;topic: rendering;topic: stabilization;topic: ui/ux;topic: worldgen;type: bug;type: chore;type: dream;type: improvement;type: question;type: refactoring\",\"game;game-development;game-engine;game-engine-3d;gamedev;hacktoberfest;java;sandbox;voxel\"\\n']\n"
     ]
    }
   ],
   "source": [
    "with open(file_path) as repo_file:\n",
    "    head = [next(repo_file) for x in range(3)]\n",
    "print(head)"
   ]
  },
  {
   "cell_type": "code",
   "execution_count": 5,
   "metadata": {},
   "outputs": [
    {
     "name": "stdout",
     "output_type": "stream",
     "text": [
      "cloning... https://github.com/arduino/arduino.git\n"
     ]
    },
    {
     "name": "stderr",
     "output_type": "stream",
     "text": [
      "Cloning into 'data/repos/arduino_arduino'...\n"
     ]
    },
    {
     "name": "stdout",
     "output_type": "stream",
     "text": [
      "cloning done.\n",
      "cloning... https://github.com/movingblocks/terasology.git\n"
     ]
    },
    {
     "name": "stderr",
     "output_type": "stream",
     "text": [
      "Cloning into 'data/repos/movingblocks_terasology'...\n"
     ]
    },
    {
     "name": "stdout",
     "output_type": "stream",
     "text": [
      "cloning done.\n",
      "cloning... https://github.com/nutzam/nutz.git\n"
     ]
    },
    {
     "name": "stderr",
     "output_type": "stream",
     "text": [
      "Cloning into 'data/repos/nutzam_nutz'...\n"
     ]
    },
    {
     "name": "stdout",
     "output_type": "stream",
     "text": [
      "cloning done.\n",
      "cloning... https://github.com/gephi/gephi.git\n"
     ]
    },
    {
     "name": "stderr",
     "output_type": "stream",
     "text": [
      "Cloning into 'data/repos/gephi_gephi'...\n"
     ]
    },
    {
     "name": "stdout",
     "output_type": "stream",
     "text": [
      "cloning done.\n",
      "cloning... https://github.com/open-keychain/open-keychain.git\n"
     ]
    },
    {
     "name": "stderr",
     "output_type": "stream",
     "text": [
      "Cloning into 'data/repos/open-keychain_open-keychain'...\n"
     ]
    },
    {
     "name": "stdout",
     "output_type": "stream",
     "text": [
      "cloning done.\n",
      "cloning... https://github.com/anysoftkeyboard/anysoftkeyboard.git\n"
     ]
    },
    {
     "name": "stderr",
     "output_type": "stream",
     "text": [
      "Cloning into 'data/repos/anysoftkeyboard_anysoftkeyboard'...\n",
      "Updating files: 100% (6734/6734), done.\n",
      "Cloning into 'data/repos/realm_realm-java'...\n"
     ]
    },
    {
     "name": "stdout",
     "output_type": "stream",
     "text": [
      "cloning done.\n",
      "cloning... https://github.com/realm/realm-java.git\n",
      "cloning done.\n",
      "cloning... https://github.com/thymeleaf/thymeleaf.git\n"
     ]
    },
    {
     "name": "stderr",
     "output_type": "stream",
     "text": [
      "Cloning into 'data/repos/thymeleaf_thymeleaf'...\n",
      "Updating files: 100% (5744/5744), done.\n",
      "Cloning into 'data/repos/neo4j_neo4j'...\n"
     ]
    },
    {
     "name": "stdout",
     "output_type": "stream",
     "text": [
      "cloning done.\n",
      "cloning... https://github.com/neo4j/neo4j.git\n"
     ]
    },
    {
     "name": "stderr",
     "output_type": "stream",
     "text": [
      "Updating files: 100% (11848/11848), done.\n",
      "Cloning into 'data/repos/dianping_cat'...\n"
     ]
    },
    {
     "name": "stdout",
     "output_type": "stream",
     "text": [
      "cloning done.\n",
      "cloning... https://github.com/dianping/cat.git\n",
      "cloning done.\n"
     ]
    }
   ],
   "source": [
    "import download\n",
    "import csv\n",
    "\n",
    "output_folder = os.path.join('data', 'repos')\n",
    "with open(file_path) as repo_file:\n",
    "    reader = csv.reader(repo_file, delimiter=',')\n",
    "    next(reader)\n",
    "    max_limit = 10 # <- maximum number of repos to be cloned\n",
    "    for i, line in enumerate(reader):\n",
    "        if i == max_limit:\n",
    "            break\n",
    "        download.download_repo(line[1], output_folder)"
   ]
  },
  {
   "cell_type": "code",
   "execution_count": null,
   "metadata": {},
   "outputs": [],
   "source": []
  }
 ],
 "metadata": {
  "kernelspec": {
   "display_name": "Python 3 (ipykernel)",
   "language": "python",
   "name": "python3"
  },
  "language_info": {
   "codemirror_mode": {
    "name": "ipython",
    "version": 3
   },
   "file_extension": ".py",
   "mimetype": "text/x-python",
   "name": "python",
   "nbconvert_exporter": "python",
   "pygments_lexer": "ipython3",
   "version": "3.13.2"
  }
 },
 "nbformat": 4,
 "nbformat_minor": 4
}
