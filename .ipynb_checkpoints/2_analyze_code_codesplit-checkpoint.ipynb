{
 "cells": [
  {
   "cell_type": "markdown",
   "metadata": {},
   "source": [
    "### Analyze code using CodeSplitJava\n",
    "CodeSplitJava splits Java projects and saves individual classes and methods into separate files. Find the open-source project [here](https://github.com/tushartushar/CodeSplitJava)\n",
    "The utlity supports two modes `method` and `class`."
   ]
  },
  {
   "cell_type": "code",
   "execution_count": 1,
   "metadata": {
    "collapsed": false,
    "jupyter": {
     "outputs_hidden": false
    }
   },
   "outputs": [],
   "source": [
    "import os\n",
    "import subprocess\n",
    "\n",
    "def _run_code_split(folder_name, folder_path, code_split_result_folder, code_split_exe_path, code_split_mode):\n",
    "    out_folder = os.path.join(code_split_result_folder, folder_name)\n",
    "    if not os.path.exists(out_folder):\n",
    "        os.makedirs(out_folder)\n",
    "    subprocess.call([\"java\", \"-jar\", code_split_exe_path,\n",
    "                     \"-i\", folder_path, \"-o\", out_folder, \"-m\", code_split_mode])\n",
    "\n",
    "def java_code_split(repo_source_folder, code_split_mode, code_split_result_folder, code_split_exe_path):\n",
    "    assert code_split_mode == \"method\" or code_split_mode == \"class\"\n",
    "\n",
    "    for folder in os.listdir(repo_source_folder):\n",
    "        print(\"Processing \" + folder)\n",
    "        if os.path.exists(os.path.join(code_split_result_folder, folder)):\n",
    "            print (\"\\t.. skipping.\")\n",
    "        else:\n",
    "            _run_code_split(folder, os.path.join(repo_source_folder, folder),\n",
    "                            code_split_result_folder, code_split_exe_path, code_split_mode)\n",
    "    print(\"Done.\")"
   ]
  },
  {
   "cell_type": "code",
   "execution_count": 2,
   "metadata": {
    "collapsed": false,
    "jupyter": {
     "outputs_hidden": false
    }
   },
   "outputs": [],
   "source": [
    "codesplit_folder = os.path.join('data', 'codesplit_class')\n",
    "if not os.path.exists(codesplit_folder):\n",
    "    os.mkdir(codesplit_folder)"
   ]
  },
  {
   "cell_type": "code",
   "execution_count": 3,
   "metadata": {},
   "outputs": [],
   "source": [
    "repos_folder = os.path.join('data', 'repos') # .data/repos\n",
    "csj_path = os.path.join('apps', 'codesplit', 'CodeSplitJava.jar')"
   ]
  },
  {
   "cell_type": "code",
   "execution_count": 4,
   "metadata": {
    "collapsed": false,
    "jupyter": {
     "outputs_hidden": false
    }
   },
   "outputs": [
    {
     "name": "stdout",
     "output_type": "stream",
     "text": [
      "Processing pmd_pmd\n",
      "Parsing the source code ...\n",
      "Resolving symbols...\n",
      "Done.\n",
      "Processing apache_dubbo\n",
      "Parsing the source code ...\n",
      "Resolving symbols...\n",
      "Done.\n",
      "Processing robolectric_robolectric\n",
      "\t.. skipping.\n",
      "Processing minecraftforge_minecraftforge\n",
      "Parsing the source code ...\n",
      "Resolving symbols...\n",
      "Done.\n",
      "Processing atmosphere_atmosphere\n",
      "\t.. skipping.\n",
      "Processing antennapod_antennapod\n",
      "Parsing the source code ...\n",
      "Resolving symbols...\n",
      "Done.\n",
      "Processing eclipse-vertx_vert.x\n",
      "\t.. skipping.\n",
      "Processing apache_jmeter\n",
      "\t.. skipping.\n",
      "Processing libgdx_libgdx\n",
      "Parsing the source code ...\n",
      "Resolving symbols...\n",
      "Done.\n",
      "Processing cucumber_cucumber-jvm\n",
      "\t.. skipping.\n",
      "Done.\n"
     ]
    }
   ],
   "source": [
    "java_code_split(repo_source_folder=repos_folder,\n",
    "                code_split_mode='class',\n",
    "                code_split_result_folder=codesplit_folder,\n",
    "                code_split_exe_path=csj_path)"
   ]
  },
  {
   "cell_type": "code",
   "execution_count": null,
   "metadata": {},
   "outputs": [],
   "source": []
  },
  {
   "cell_type": "code",
   "execution_count": null,
   "metadata": {
    "collapsed": false,
    "jupyter": {
     "outputs_hidden": false
    }
   },
   "outputs": [],
   "source": []
  }
 ],
 "metadata": {
  "kernelspec": {
   "display_name": "Python 3 (ipykernel)",
   "language": "python",
   "name": "python3"
  },
  "language_info": {
   "codemirror_mode": {
    "name": "ipython",
    "version": 3
   },
   "file_extension": ".py",
   "mimetype": "text/x-python",
   "name": "python",
   "nbconvert_exporter": "python",
   "pygments_lexer": "ipython3",
   "version": "3.13.1"
  }
 },
 "nbformat": 4,
 "nbformat_minor": 4
}
