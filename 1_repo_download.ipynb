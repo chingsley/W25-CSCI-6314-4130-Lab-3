{
 "cells": [
  {
   "cell_type": "markdown",
   "metadata": {},
   "source": [
    "### Identify the repositories to download\n",
    "Use GitHub search (https://seart-ghs.si.usi.ch/). This the same code that we have in Lab 2. This stage is to crawl for Github repositories using the SEART tool given some search criteria.\n"
   ]
  },
  {
   "cell_type": "code",
   "execution_count": 1,
   "metadata": {},
   "outputs": [],
   "source": [
    "import os\n",
    "from utils import data_download"
   ]
  },
  {
   "cell_type": "code",
   "execution_count": 2,
   "metadata": {},
   "outputs": [
    {
     "name": "stderr",
     "output_type": "stream",
     "text": [
      "/Users/kingsleyeneja/Downloads/CSCI-6314-ML-IN-SE/labs/lab2/W25-CSCI-6314-4130-Lab-3/lab3_venv/lib/python3.13/site-packages/urllib3/connectionpool.py:1097: InsecureRequestWarning: Unverified HTTPS request is being made to host 'seart-ghs.si.usi.ch'. Adding certificate verification is strongly advised. See: https://urllib3.readthedocs.io/en/latest/advanced-usage.html#tls-warnings\n",
      "  warnings.warn(\n"
     ]
    }
   ],
   "source": [
    "response = data_download.download_data_file_from_seart('csv',nameEquals=False,language=\"Java\",commitsMin=1,contributorsMin=2,issuesMin=1,pullsMin=1,\n",
    "                                  committedMin=\"2024-06-24\",committedMax=\"2025-01-01\",starsMin=2500,forksMin=10)"
   ]
  },
  {
   "cell_type": "code",
   "execution_count": 3,
   "metadata": {},
   "outputs": [],
   "source": [
    "file_path = os.path.join('data', 'new_result.csv')"
   ]
  },
  {
   "cell_type": "code",
   "execution_count": 4,
   "metadata": {},
   "outputs": [
    {
     "name": "stdout",
     "output_type": "stream",
     "text": [
      "['\"id\",\"name\",\"isFork\",\"commits\",\"branches\",\"releases\",\"forks\",\"mainLanguage\",\"defaultBranch\",\"license\",\"homepage\",\"watchers\",\"stargazers\",\"contributors\",\"size\",\"createdAt\",\"pushedAt\",\"updatedAt\",\"totalIssues\",\"openIssues\",\"totalPullRequests\",\"openPullRequests\",\"blankLines\",\"codeLines\",\"commentLines\",\"metrics\",\"lastCommit\",\"lastCommitSHA\",\"hasWiki\",\"isArchived\",\"isDisabled\",\"isLocked\",\"languages\",\"labels\",\"topics\"\\n', '\"472\",\"connectbot/connectbot\",false,\"2245\",\"18\",\"572\",\"640\",\"Java\",\"main\",\"Apache License 2.0\",\"https://connectbot.org\",\"126\",\"2588\",\"59\",\"8387\",\"2009-02-06T05:52:35\",\"2025-02-13T11:53:54\",\"2025-02-14T06:21:03\",\"545\",\"329\",\"931\",\"23\",\"18315\",\"79654\",\"22155\",\"[{\"\"codeLines\"\":68,\"\"commentLines\"\":2,\"\"language\"\":\"\"DOS Batch\"\",\"\"blankLines\"\":21},{\"\"codeLines\"\":7,\"\"commentLines\"\":0,\"\"language\"\":\"\"Text\"\",\"\"blankLines\"\":0},{\"\"codeLines\"\":18,\"\"commentLines\"\":22,\"\"language\"\":\"\"C/C++ Header\"\",\"\"blankLines\"\":5},{\"\"codeLines\"\":271,\"\"commentLines\"\":2,\"\"language\"\":\"\"YAML\"\",\"\"blankLines\"\":39},{\"\"codeLines\"\":209,\"\"commentLines\"\":13,\"\"language\"\":\"\"Markdown\"\",\"\"blankLines\"\":68},{\"\"codeLines\"\":12353,\"\"commentLines\"\":1178,\"\"language\"\":\"\"XML\"\",\"\"blankLines\"\":585},{\"\"codeLines\"\":103,\"\"commentLines\"\":109,\"\"language\"\":\"\"Bourne Shell\"\",\"\"blankLines\"\":28},{\"\"codeLines\"\":47811,\"\"commentLines\"\":15891,\"\"language\"\":\"\"PO File\"\",\"\"blankLines\"\":13996},{\"\"codeLines\"\":12,\"\"commentLines\"\":1,\"\"language\"\":\"\"Properties\"\",\"\"blankLines\"\":0},{\"\"codeLines\"\":155,\"\"commentLines\"\":16,\"\"language\"\":\"\"C++\"\",\"\"blankLines\"\":29},{\"\"codeLines\"\":5,\"\"commentLines\"\":0,\"\"language\"\":\"\"CMake\"\",\"\"blankLines\"\":2},{\"\"codeLines\"\":18198,\"\"commentLines\"\":4874,\"\"language\"\":\"\"Java\"\",\"\"blankLines\"\":3445},{\"\"codeLines\"\":368,\"\"commentLines\"\":37,\"\"language\"\":\"\"Gradle\"\",\"\"blankLines\"\":76},{\"\"codeLines\"\":39,\"\"commentLines\"\":7,\"\"language\"\":\"\"Bourne Again Shell\"\",\"\"blankLines\"\":13},{\"\"codeLines\"\":37,\"\"commentLines\"\":3,\"\"language\"\":\"\"Dockerfile\"\",\"\"blankLines\"\":8}]\",\"2024-12-08T07:00:04\",\"b2b06f0b7a832141b2ea700831910faa9d9172bd\",true,false,false,false,\"{\"\"Java\"\":838479,\"\"C++\"\":5503,\"\"Dockerfile\"\":1773,\"\"Shell\"\":1577,\"\"CMake\"\":223}\",\"automated pr;bug;dependencies;discussion;enhancement;feature;github_actions;i18n;java;mvp;question;translations;ux\",\"android;connectbot;java;ssh;ssh-client;ssh2\"\\n', '\"8748\",\"brianfrankcooper/ycsb\",false,\"1347\",\"3\",\"55\",\"2255\",\"Java\",\"master\",\"Apache License 2.0\",,\"213\",\"4967\",\"147\",\"32677\",\"2010-04-19T08:52:11\",\"2024-12-12T01:02:24\",\"2024-12-12T07:11:46\",\"958\",\"255\",\"775\",\"104\",\"7261\",\"33340\",\"12721\",\"[{\"\"codeLines\"\":25498,\"\"commentLines\"\":9929,\"\"language\"\":\"\"Java\"\",\"\"blankLines\"\":5044},{\"\"codeLines\"\":38,\"\"commentLines\"\":66,\"\"language\"\":\"\"SQL\"\",\"\"blankLines\"\":8},{\"\"codeLines\"\":177,\"\"commentLines\"\":760,\"\"language\"\":\"\"Properties\"\",\"\"blankLines\"\":144},{\"\"codeLines\"\":500,\"\"commentLines\"\":276,\"\"language\"\":\"\"XML\"\",\"\"blankLines\"\":124},{\"\"codeLines\"\":196,\"\"commentLines\"\":0,\"\"language\"\":\"\"DOS Batch\"\",\"\"blankLines\"\":35},{\"\"codeLines\"\":245,\"\"commentLines\"\":53,\"\"language\"\":\"\"Python\"\",\"\"blankLines\"\":36},{\"\"codeLines\"\":3260,\"\"commentLines\"\":726,\"\"language\"\":\"\"Maven\"\",\"\"blankLines\"\":359},{\"\"codeLines\"\":209,\"\"commentLines\"\":0,\"\"language\"\":\"\"Text\"\",\"\"blankLines\"\":36},{\"\"codeLines\"\":458,\"\"commentLines\"\":104,\"\"language\"\":\"\"HTML\"\",\"\"blankLines\"\":53},{\"\"codeLines\"\":140,\"\"commentLines\"\":85,\"\"language\"\":\"\"Bourne Shell\"\",\"\"blankLines\"\":35},{\"\"codeLines\"\":46,\"\"commentLines\"\":0,\"\"language\"\":\"\"INI\"\",\"\"blankLines\"\":9},{\"\"codeLines\"\":22,\"\"commentLines\"\":28,\"\"language\"\":\"\"Lua\"\",\"\"blankLines\"\":4},{\"\"codeLines\"\":23,\"\"commentLines\"\":21,\"\"language\"\":\"\"YAML\"\",\"\"blankLines\"\":9},{\"\"codeLines\"\":2528,\"\"commentLines\"\":673,\"\"language\"\":\"\"Markdown\"\",\"\"blankLines\"\":1365}]\",\"2024-12-12T01:02:24\",\"33296cd1493ee48e518a8fe81f9e0d76c8562e35\",true,false,false,false,\"{\"\"Java\"\":1408557,\"\"Python\"\":13859,\"\"Shell\"\":8110,\"\"Batchfile\"\":7315,\"\"Lua\"\":1964,\"\"HTML\"\":803}\",\"aesilberstein;brianfrankcooper;bug;busbey_approval_waiting;cassandra;core;couchbase;db-new;db-update;documentation;dynamo;elasticsearch;feedback;gemfire;hbase;improvement;jdbc;mongo;mysql;needs-rebase;postgrenosql;question;redis;release;security;solr\",\"\"\\n']\n"
     ]
    }
   ],
   "source": [
    "with open(file_path) as repo_file:\n",
    "    head = [next(repo_file) for x in range(3)]\n",
    "print(head)"
   ]
  },
  {
   "cell_type": "code",
   "execution_count": 5,
   "metadata": {},
   "outputs": [
    {
     "name": "stdout",
     "output_type": "stream",
     "text": [
      "connectbot_connectbot already exists. skipping ...\n",
      "brianfrankcooper_ycsb already exists. skipping ...\n",
      "arduino_arduino already exists. skipping ...\n",
      "movingblocks_terasology already exists. skipping ...\n",
      "java-native-access_jna already exists. skipping ...\n",
      "nutzam_nutz already exists. skipping ...\n",
      "angryip_ipscan already exists. skipping ...\n",
      "gephi_gephi already exists. skipping ...\n",
      "jooq_joor already exists. skipping ...\n",
      "jgrapht_jgrapht already exists. skipping ...\n"
     ]
    }
   ],
   "source": [
    "import download\n",
    "import csv\n",
    "\n",
    "output_folder = os.path.join('data', 'repos')\n",
    "with open(file_path) as repo_file:\n",
    "    reader = csv.reader(repo_file, delimiter=',')\n",
    "    next(reader)\n",
    "    max_limit = 10 # <- maximum number of repos to be cloned\n",
    "    for i, line in enumerate(reader):\n",
    "        if i == max_limit:\n",
    "            break\n",
    "        download.download_repo(line[1], output_folder)"
   ]
  },
  {
   "cell_type": "code",
   "execution_count": null,
   "metadata": {},
   "outputs": [],
   "source": []
  }
 ],
 "metadata": {
  "kernelspec": {
   "display_name": "Python 3 (ipykernel)",
   "language": "python",
   "name": "python3"
  },
  "language_info": {
   "codemirror_mode": {
    "name": "ipython",
    "version": 3
   },
   "file_extension": ".py",
   "mimetype": "text/x-python",
   "name": "python",
   "nbconvert_exporter": "python",
   "pygments_lexer": "ipython3",
   "version": "3.13.2"
  }
 },
 "nbformat": 4,
 "nbformat_minor": 4
}
